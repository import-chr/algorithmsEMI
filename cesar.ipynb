{
  "nbformat": 4,
  "nbformat_minor": 0,
  "metadata": {
    "colab": {
      "provenance": []
    },
    "kernelspec": {
      "name": "python3",
      "display_name": "Python 3"
    },
    "language_info": {
      "name": "python"
    }
  },
  "cells": [
    {
      "cell_type": "markdown",
      "source": [
        "# Cifrado (Cesar)\n",
        "\n",
        "`C = M + [k mod |A|]`"
      ],
      "metadata": {
        "id": "iK5jzFts7glg"
      }
    },
    {
      "cell_type": "code",
      "source": [
        "alphabet = \"abcdefghijklmnñopqrstuvwxyz\"\n",
        "message = input(\"Ingrese una frase: \") # \"hola\"\n",
        "# dlhw\n",
        "key = 4\n",
        "alpha = len(alphabet)\n",
        "\n",
        "arrT = []\n",
        "\n",
        "#print(alpha)\n",
        "\n",
        "def getIdM(m, i = 0):\n",
        "  return alphabet.find(m[i])\n",
        "\n",
        "\"\"\"for i in range(len(message)):\n",
        "    arrT.append(getIdM(message, i))\n",
        "\n",
        "print(arrT)\"\"\"\n",
        "\n",
        "def cesar(m, k, a):\n",
        "  arrN = []\n",
        "\n",
        "  for i in range(len(m)):\n",
        "    arrN.append(getIdM(m, i) + (k % a))\n",
        "  \n",
        "  return arrN\n",
        "  # print(arr)\n",
        "\n",
        "def toStr(arr, a):\n",
        "  arrC = []\n",
        "\n",
        "  for i in range(len(arr)):\n",
        "    arrC.append(a[arr[i]])\n",
        "  \n",
        "  cad = \"\".join(arrC)\n",
        "\n",
        "  return cad\n",
        "  # print(cad)\n",
        "\n",
        "casarArr = cesar(message, key, alpha)\n",
        "\n",
        "#print(casarArr)\n",
        "\n",
        "cesarStr = toStr(casarArr, alphabet)\n",
        "\n",
        "print(f\"cesar (cifrado): {cesarStr}\")"
      ],
      "metadata": {
        "id": "wHTQDn6e8U3t",
        "colab": {
          "base_uri": "https://localhost:8080/"
        },
        "outputId": "4763a469-87bb-4e40-ef61-b26956d78623"
      },
      "execution_count": null,
      "outputs": [
        {
          "output_type": "stream",
          "name": "stdout",
          "text": [
            "Ingrese una frase: hola\n",
            "cesar (cifrado): lsoe\n"
          ]
        }
      ]
    },
    {
      "cell_type": "markdown",
      "source": [
        "# Descifrado (Cesar)\n",
        "\n",
        "`M = C - [k mod |A|]`"
      ],
      "metadata": {
        "id": "dp7taqth79t7"
      }
    },
    {
      "cell_type": "code",
      "source": [
        "alphabet = \"abcdefghijklmnñopqrstuvwxyz\"\n",
        "cesarText = input(\"Ingrese una frase: \") # \"hola\"\n",
        "# dlhw\n",
        "key = 4\n",
        "alpha = len(alphabet)\n",
        "\n",
        "arrT = []\n",
        "\n",
        "#print(alpha)\n",
        "\n",
        "def getIdM(m, i = 0):\n",
        "  return alphabet.find(m[i])\n",
        "\n",
        "\"\"\"for i in range(len(cesarText)):\n",
        "    arrT.append(getIdM(cesarText, i))\n",
        "\n",
        "print(arrT)\"\"\"\n",
        "\n",
        "def message(m, k, a):\n",
        "  arrN = []\n",
        "\n",
        "  for i in range(len(m)):\n",
        "    arrN.append(getIdM(m, i) - (k % a))\n",
        "  \n",
        "  return arrN\n",
        "  # print(arrN)\n",
        "\n",
        "def toStr(arr, a):\n",
        "  arrM = []\n",
        "\n",
        "  for i in range(len(arr)):\n",
        "    arrM.append(a[arr[i]])\n",
        "  \n",
        "  cad = \"\".join(arrM)\n",
        "\n",
        "  return cad\n",
        "  # print(cad)\n",
        "\n",
        "messageArr = message(cesarText, key, alpha)\n",
        "\n",
        "#print(casarArr)\n",
        "\n",
        "messageStr = toStr(messageArr, alphabet)\n",
        "\n",
        "print(f\"cesar (descifrado): {messageStr}\")"
      ],
      "metadata": {
        "id": "5roiSc7_8XaR",
        "colab": {
          "base_uri": "https://localhost:8080/"
        },
        "outputId": "cffb1159-f4f6-464c-dda0-82472a38d820"
      },
      "execution_count": 13,
      "outputs": [
        {
          "output_type": "stream",
          "name": "stdout",
          "text": [
            "Ingrese una frase: lsoe\n",
            "cesar (descifrado): hola\n"
          ]
        }
      ]
    }
  ]
}