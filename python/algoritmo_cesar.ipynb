{
  "nbformat": 4,
  "nbformat_minor": 0,
  "metadata": {
    "colab": {
      "provenance": []
    },
    "kernelspec": {
      "name": "python3",
      "display_name": "Python 3"
    },
    "language_info": {
      "name": "python"
    }
  },
  "cells": [
    {
      "cell_type": "markdown",
      "source": [
        "# Algoritmo de Cesar\n",
        "\n",
        "---\n",
        "uso de alfabeto de 27 caracteres"
      ],
      "metadata": {
        "id": "15PD0OVgWnRE"
      }
    },
    {
      "cell_type": "code",
      "source": [
        "alphabet = \"abcdefghijklmnñopqrstuvwxyz\"\n",
        "alphabet_upper = \"ABCDEFGHIJKLMNÑOPQRSTUVWXYZ\""
      ],
      "metadata": {
        "id": "qvT1e2jpXG3H"
      },
      "execution_count": 1,
      "outputs": []
    },
    {
      "cell_type": "markdown",
      "source": [
        "# Cifrado (Cesar)\n",
        "\n",
        "`C = M + [k mod |A|]`"
      ],
      "metadata": {
        "id": "iK5jzFts7glg"
      }
    },
    {
      "cell_type": "code",
      "source": [
        "message = input(\"Ingrese la frase a cifrar: \")\n",
        "key = int(input(\"Ingrese la llave de cifrado: \"))\n",
        "alpha = len(alphabet)\n",
        "\n",
        "arrT = []\n",
        "\n",
        "def getIdM(m, i = 0):\n",
        "  return alphabet.find(m[i])\n",
        "\n",
        "def cesar(m, k, a):\n",
        "  arrN = []\n",
        "\n",
        "  for i in range(len(m)):\n",
        "    arrN.append(getIdM(m, i) + (k % a))\n",
        "  \n",
        "  return arrN\n",
        "\n",
        "def toStr(arr, a):\n",
        "  arrC = []\n",
        "\n",
        "  for i in range(len(arr)):\n",
        "    arrC.append(a[arr[i]])\n",
        "  \n",
        "  cad = \"\".join(arrC)\n",
        "\n",
        "  return cad\n",
        "\n",
        "cesarArr = cesar(message, key, alpha)\n",
        "\n",
        "cesarStr = toStr(cesarArr, alphabet)\n",
        "\n",
        "print(f\"cesar (cifrado): {cesarStr}\")"
      ],
      "metadata": {
        "id": "wHTQDn6e8U3t",
        "colab": {
          "base_uri": "https://localhost:8080/"
        },
        "outputId": "95094b42-a085-4df5-c5b4-90677697d51c"
      },
      "execution_count": 3,
      "outputs": [
        {
          "output_type": "stream",
          "name": "stdout",
          "text": [
            "Ingrese la frase a cifrar: hola\n",
            "Ingrese la llave de cifrado5\n",
            "cesar (cifrado): mtpf\n"
          ]
        }
      ]
    },
    {
      "cell_type": "markdown",
      "source": [
        "# Descifrado (Cesar)\n",
        "\n",
        "`M = C - [k mod |A|]`"
      ],
      "metadata": {
        "id": "dp7taqth79t7"
      }
    },
    {
      "cell_type": "code",
      "source": [
        "cesarText = input(\"Ingrese la frase a descifrar: \")\n",
        "key = int(input(\"Ingrese la llave de descifrado: \"))\n",
        "alpha = len(alphabet_upper)\n",
        "\n",
        "arrT = []\n",
        "\n",
        "def getIdM(m, i = 0):\n",
        "  return alphabet_upper.find(m[i])\n",
        "\n",
        "def message(m, k, a):\n",
        "  arrN = []\n",
        "\n",
        "  for i in range(len(m)):\n",
        "    arrN.append(getIdM(m, i) - (k % a))\n",
        "  \n",
        "  return arrN\n",
        "\n",
        "def toStr(arr, a):\n",
        "  arrM = []\n",
        "\n",
        "  for i in range(len(arr)):\n",
        "    arrM.append(a[arr[i]])\n",
        "  \n",
        "  cad = \"\".join(arrM)\n",
        "\n",
        "  return cad\n",
        "\n",
        "messageArr = message(cesarText, key, alpha)\n",
        "\n",
        "messageStr = toStr(messageArr, alphabet_upper)\n",
        "\n",
        "print(f\"cesar (descifrado): {messageStr}\")"
      ],
      "metadata": {
        "id": "5roiSc7_8XaR",
        "colab": {
          "base_uri": "https://localhost:8080/"
        },
        "outputId": "878ad5a8-739a-46e9-c7e7-8f24d18b91cc"
      },
      "execution_count": 4,
      "outputs": [
        {
          "output_type": "stream",
          "name": "stdout",
          "text": [
            "Ingrese la frase a descifrar: MWQDPO\n",
            "Ingrese la llave de descifrado: 12\n",
            "cesar (descifrado): ALFRED\n"
          ]
        }
      ]
    }
  ]
}