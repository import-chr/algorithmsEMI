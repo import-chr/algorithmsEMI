{
  "cells": [
    {
      "cell_type": "markdown",
      "metadata": {
        "id": "15PD0OVgWnRE"
      },
      "source": [
        "# Algoritmo de Cesar\n",
        "\n",
        "---\n",
        "uso de alfabeto de 27 caracteres"
      ]
    },
    {
      "cell_type": "code",
      "execution_count": 1,
      "metadata": {
        "id": "qvT1e2jpXG3H"
      },
      "outputs": [],
      "source": [
        "alphabet = \"abcdefghijklmnñopqrstuvwxyz\"\n",
        "alphabet_upper = \"ABCDEFGHIJKLMNÑOPQRSTUVWXYZ\""
      ]
    },
    {
      "cell_type": "markdown",
      "metadata": {
        "id": "iK5jzFts7glg"
      },
      "source": [
        "# Cifrado (Cesar)\n",
        "\n",
        "`C = M + [k mod |A|]`"
      ]
    },
    {
      "cell_type": "code",
      "execution_count": 3,
      "metadata": {
        "colab": {
          "base_uri": "https://localhost:8080/"
        },
        "id": "wHTQDn6e8U3t",
        "outputId": "95094b42-a085-4df5-c5b4-90677697d51c"
      },
      "outputs": [
        {
          "name": "stdout",
          "output_type": "stream",
          "text": [
            "Ingrese la frase a cifrar: hola\n",
            "Ingrese la llave de cifrado5\n",
            "cesar (cifrado): mtpf\n"
          ]
        }
      ],
      "source": [
        "message = input(\"Ingrese la frase a cifrar: \")\n",
        "key = int(input(\"Ingrese la llave de cifrado: \"))\n",
        "alpha = len(alphabet)\n",
        "\n",
        "arrT = []\n",
        "\n",
        "def getIdM(m, i = 0):\n",
        "  return alphabet.find(m[i])\n",
        "\n",
        "def cesar(m, k, a):\n",
        "  arrN = []\n",
        "\n",
        "  for i in range(len(m)):\n",
        "    arrN.append(getIdM(m, i) + (k % a))\n",
        "  \n",
        "  return arrN\n",
        "\n",
        "def toStr(arr, a, alpha):\n",
        "  arrC = []\n",
        "\n",
        "  for i in range(len(arr)):\n",
        "    arrC.append(a[arr[i] % alpha])\n",
        "  \n",
        "  cad = \"\".join(arrC)\n",
        "\n",
        "  return cad\n",
        "\n",
        "cesarArr = cesar(message, key, alpha)\n",
        "\n",
        "cesarStr = toStr(cesarArr, alphabet, alpha)\n",
        "\n",
        "print(f\"cesar (cifrado): {cesarStr}\")"
      ]
    },
    {
      "cell_type": "markdown",
      "metadata": {
        "id": "dp7taqth79t7"
      },
      "source": [
        "# Descifrado (Cesar)\n",
        "\n",
        "`M = C - [k mod |A|]`"
      ]
    },
    {
      "cell_type": "code",
      "execution_count": 4,
      "metadata": {
        "colab": {
          "base_uri": "https://localhost:8080/"
        },
        "id": "5roiSc7_8XaR",
        "outputId": "878ad5a8-739a-46e9-c7e7-8f24d18b91cc"
      },
      "outputs": [
        {
          "name": "stdout",
          "output_type": "stream",
          "text": [
            "Ingrese la frase a descifrar: MWQDPO\n",
            "Ingrese la llave de descifrado: 12\n",
            "cesar (descifrado): ALFRED\n"
          ]
        }
      ],
      "source": [
        "cesarText = input(\"Ingrese la frase a descifrar: \")\n",
        "key = int(input(\"Ingrese la llave de descifrado: \"))\n",
        "alpha = len(alphabet_upper)\n",
        "\n",
        "arrT = []\n",
        "\n",
        "def getIdM(m, i = 0):\n",
        "  return alphabet_upper.find(m[i])\n",
        "\n",
        "def message(m, k, a):\n",
        "  arrN = []\n",
        "\n",
        "  for i in range(len(m)):\n",
        "    arrN.append(getIdM(m, i) - (k % a))\n",
        "  \n",
        "  return arrN\n",
        "\n",
        "def toStr(arr, a):\n",
        "  arrM = []\n",
        "\n",
        "  for i in range(len(arr)):\n",
        "    arrM.append(a[arr[i]])\n",
        "  \n",
        "  cad = \"\".join(arrM)\n",
        "\n",
        "  return cad\n",
        "\n",
        "messageArr = message(cesarText, key, alpha)\n",
        "\n",
        "messageStr = toStr(messageArr, alphabet_upper)\n",
        "\n",
        "print(f\"cesar (descifrado): {messageStr}\")"
      ]
    }
  ],
  "metadata": {
    "colab": {
      "provenance": []
    },
    "kernelspec": {
      "display_name": "Python 3",
      "name": "python3"
    },
    "language_info": {
      "name": "python"
    }
  },
  "nbformat": 4,
  "nbformat_minor": 0
}
